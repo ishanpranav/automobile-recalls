{
  "cells": [
    {
      "cell_type": "markdown",
      "id": "6857504c-31f0-41dc-9247-2c0316a8fc50",
      "metadata": {},
      "source": [
        "# Automobile recalls\n",
        "\n",
        "## Attribution\n",
        "\n",
        "The data for this project come from\n",
        "[Michael Bryant's automobile recalls dataset](https://www.kaggle.com/datasets/michaelbryantds/automobile-recalls-dataset). We use a modified dataset:\n",
        "\n",
        "* some columns have been removed,\n",
        "* some column names have been changed,\n",
        "* some rows have been removed due to non numeric values in numeric columns, and\n",
        "* some rows have been removed to consider only subset of the data.\n",
        "\n",
        "## Constraints\n",
        "\n",
        "We impose the following constraints:\n",
        "\n",
        "* may not external libraries, such as `numpy` or `pandas`; and\n",
        "* may not use any regular loops, such as `for...in` or `while`;\n",
        "* must use at least two lambda expressions:\n",
        "  * [first lambda expression](#lambda-expressions)\n",
        "  * [second lambda expression](#lambda-expressions)\n",
        "\n",
        "## References\n",
        "\n",
        "* [csv — CSV File Reading and Writing](https://docs.python.org/3/library/csv.html)\n",
        "\n",
        "## Investigation I\n",
        "\n",
        "__Which automobile manufacturer has the highest number of potentially affected vehicles? Which has the lowest?__\n",
        "\n",
        "### Parsing\n",
        "\n",
        "To implement the parser, we read each of the comma-separated values."
      ]
    },
    {
      "cell_type": "code",
      "execution_count": 1,
      "id": "ef325df0-23aa-4a67-9056-b1271767446b",
      "metadata": {
        "trusted": true
      },
      "outputs": [
        {
          "name": "stdout",
          "output_type": "stream",
          "text": [
            "[['Date', 'Manufacturer', 'Subject', 'Recall Type', 'Potentially Affected'], ['01/06/2023', 'Triple E Recreational Vehicles', 'Battery Disconnect Switch May Short', 'Vehicle', '341'], ['01/05/2023', 'Volvo Car USA, LLC', 'Steering Wheel May Lock Up', 'Vehicle', '74'], ['12/29/2022', 'Volkswagen Group of America, Inc.', '12-Volt Battery Cable May Short Circuit', 'Vehicle', '1042'], ['12/29/2022', 'Indian Motorcycle Company', 'Kickstand May Not Retract Properly/FMVSS 123', 'Vehicle', '4653'], ['12/29/2022', 'Hendrickson USA. L.L.C.', 'Loose Brake Pad Retaining Clip May Damage Tire', 'Equipment', '12'], ['12/23/2022', 'Lion Electric Company', 'Adjusting Ring Fasteners Not Tightened Properly', 'Vehicle', '13'], ['12/23/2022', 'WARN Industries, Inc.', 'Corrosion on Remote Control Circuit Board', 'Equipment', '121187'], ['12/23/2022', 'Mercedes-Benz USA, LLC', 'Engine Stall from Water Intrusion into Vehicle', 'Vehicle', '323963'], ['12/23/2022', 'Ford Motor Company', 'Seat Belt Warning System Malfunction/FMVSS 208', 'Vehicle', '101001'], ['12/23/2022', 'Mercedes-Benz USA, LLC', 'Sunroof Panel May Detach', 'Vehicle', '123696'], ['12/22/2022', 'Shadow Trailer, LLC', 'Damaged Cooktop Control Valves May Leak Gas', 'Vehicle', '12'], ['12/22/2022', 'Honda (American Honda Motor Co.)', 'Damaged Tire Bead', 'Vehicle', '19'], ['12/22/2022', 'Chrysler (FCA US, LLC)', 'Incorrect Rearview Camera/FMVSS 111', 'Vehicle', '38'], ['12/22/2022', 'Kibbi, LLC', 'Propane Leak Can Cause a Fire', 'Vehicle', '292'], ['12/22/2022', 'REV Recreation Group', 'Propane Leak May Cause Fire', 'Vehicle', '1540'], ['12/21/2022', 'Volkswagen Group of America, Inc.', \"Driver's Side Air Bag Inflator May Explode\", 'Vehicle', '37558'], ['12/20/2022', 'BMW of North America, LLC', 'High Voltage Battery ECU May Interrupt Power', 'Vehicle', '14086'], ['12/20/2022', 'New Flyer of America, Inc.', 'Upper Steering Shaft Connection May Loosen', 'Vehicle', '746'], ['12/19/2022', 'BMW of North America, LLC', \"Driver's Seat Backrest Missing a Bolt\", 'Vehicle', '4'], ['12/16/2022', 'Mercedes-Benz USA, LLC', 'Center Console May Open in a Crash/FMVSS 201', 'Vehicle', '11'], ['12/16/2022', 'Hyundai Motor America', 'Coolant Leak in EPCU May Cause Loss of Drive Power', 'Vehicle', '853'], ['12/16/2022', 'Lightning eMotors Inc.', 'High Voltage Battery Packs May Fail', 'Vehicle', '27'], ['12/16/2022', 'Mercedes-Benz USA, LLC', 'Insufficiently Attached Dashboard', 'Vehicle', '1'], ['12/16/2022', 'Mercedes-Benz USA, LLC', 'Loss of Steering Control', 'Vehicle', '69'], ['12/16/2022', 'PACCAR Incorporated', 'Mirror May Detach and Become Road Hazard', 'Vehicle', '2565'], ['12/16/2022', 'Mercedes-Benz USA, LLC', 'Rear Axle Differential Housing May Crack and Break', 'Vehicle', '278'], ['12/16/2022', 'PACCAR Incorporated', 'Suspension Tracking Rod Brackets May Fail', 'Vehicle', '15658'], ['12/15/2022', 'Airstream, Inc.', 'Entry Door Window May Detach', 'Vehicle', '1992'], ['12/15/2022', 'General Motors, LLC', 'Fire Risk after Seat Belt Pretensioner Deployment', 'Vehicle', '111242'], ['12/15/2022', 'Ridewell Corporation', 'Loose Brake Pad Retaining Clip May Damage Tire', 'Equipment', '186'], ['12/15/2022', 'Airstream, Inc.', 'Overhead Galley Cabinet May Detach', 'Vehicle', '200'], ['12/15/2022', 'General Motors, LLC', 'Passenger Air Bag May Deploy with Child in Seat', 'Vehicle', '9'], ['12/15/2022', 'Yokohama Tire Corporation', 'Tire Tread May Separate/FMVSS 119', 'Tire', '6125'], ['12/15/2022', 'Jayco, Inc.', 'Windshield Wipers May Fail', 'Vehicle', '37'], ['12/14/2022', 'General Motors, LLC', 'Front Impact Bar Not Welded Properly', 'Vehicle', '2108'], ['12/14/2022', 'Ford Motor Company', 'Fuel Tank Paint May Peel and Result in a Fuel Leak', 'Vehicle', '11074'], ['12/14/2022', 'Polestar Automotive USA, Inc.', 'High-Voltage Battery May Overheat', 'Vehicle', '66'], ['12/14/2022', 'Ford Motor Company', 'Improperly Secured Side Impact Sensors', 'Vehicle', '1226'], ['12/14/2022', 'Volkswagen Group of America, Inc.', 'Loose Retaining Ring May Cause Dislodged Air Strut', 'Vehicle', '96'], ['12/14/2022', 'Williamsen-Godwin Truck Body Company LLC', 'Steering Arm May Fracture', 'Equipment', '12'], ['12/13/2022', 'Easymile Inc.', 'Battery May Catch Fire While Charging', 'Vehicle', '4'], ['12/13/2022', 'Jayco, Inc.', 'HVAC Controls May Become Inoperative', 'Vehicle', '90'], ['12/13/2022', 'Porsche Cars North America, Inc.', 'Loose Retaining Ring May Cause Dislodged Air Strut', 'Vehicle', '28'], ['12/13/2022', 'Forest River, Inc.', 'Refrigerator Wiring May Melt and Cause Fire', 'Vehicle', '262'], ['12/12/2022', 'Daimler Trucks North America, LLC', 'Incompatible Tires and Rims/FMVSS 120', 'Vehicle', '49'], ['12/12/2022', 'Volvo Bus Corporation', 'Incorrectly Installed GPS Devices', 'Vehicle', '20'], ['12/12/2022', 'Prevost Car (US) Inc.', 'Inoperative Engine Stop Button', 'Vehicle', '22'], ['12/12/2022', 'East Manufacturing Corp.', 'Steering Arm May Fracture', 'Vehicle', '17'], ['12/11/2022', 'Braun Ambulances', 'Missing Ventilation Hole in Battery Compartment', 'Vehicle', '11'], ['12/09/2022', 'Braun Ambulances', 'Condenser Fan Malfunction in HVAC System', 'Vehicle', '1321'], ['12/09/2022', 'Kawasaki Motors Corp., U.S.A.', 'Engine Stall While Riding', 'Vehicle', '3172'], ['12/09/2022', 'Daimler Trucks North America, LLC', 'Inaccurate Gear Shifter Indicator/FMVSS 102', 'Vehicle', '23'], ['12/09/2022', 'Kawasaki Motors Corp., U.S.A.', 'Speed Display Failure/FMVSS 123', 'Vehicle', '200'], ['12/08/2022', 'McLaren Automotive Incorporated', 'High Pressure Fuel Pipe May Leak', 'Vehicle', '164'], ['12/08/2022', 'Subaru of America, Inc.', 'Improperly Fastened Ground Bolts May Cause Fire', 'Vehicle', '271694'], ['12/08/2022', 'Hyundai Translead', 'Loose Brake Pad Retaining Clip May Damage Tire', 'Vehicle', '39'], ['12/08/2022', 'Navistar, Inc.', 'Loose Fasteners May Cause Rear Axle Instability', 'Vehicle', '6948'], ['12/08/2022', 'Navistar, Inc.', 'Loose Fasteners May Cause Rear Axle Instability', 'Vehicle', '46'], ['12/08/2022', 'Kia America, Inc.', 'Loss of Steering Control from Cracked Knuckle', 'Vehicle', '939'], ['12/08/2022', 'Michelin North America, Inc.', 'Missing DOT Certification Symbol/FMVSS 109 & 139', 'Tire', '16983'], ['12/08/2022', 'General Motors, LLC', 'Running Lights May Not Deactivate/FMVSS 108', 'Vehicle', '740108'], ['12/08/2022', 'Chrysler (FCA US, LLC)', 'Tailgate May Open While Driving', 'Vehicle', '1224078'], ['12/07/2022', 'Volkswagen Group of America, Inc.', 'Missing Weight Capacity Information/Part 567', 'Vehicle', '297'], ['12/07/2022', 'Nova Bus (US) Inc.', 'Non-Standard Color Lighting May Distract Drivers', 'Vehicle', '519'], ['12/06/2022', 'Porsche Cars North America, Inc.', 'Air Bag May Deploy Improperly', 'Vehicle', '53'], ['12/06/2022', 'Volvo Trucks North America', 'Air Tank May Detach', 'Vehicle', '412'], ['12/06/2022', 'Kia America, Inc.', 'Coolant Leak in EPCU may Cause Loss of Drive Power', 'Vehicle', '872'], ['12/06/2022', 'Hino Motors Sales U.S.A., Inc.', 'Restricted Fuel Pickup Tube May Cause Engine Stall', 'Vehicle', '970'], ['12/06/2022', 'KTM North America, Inc.', 'Wiring Harness Damage May Cause Engine Stall', 'Vehicle', '1040'], ['12/05/2022', 'Old School Trailers, LLC', 'Awning Fabric May Detach Causing Awning to Drop', 'Vehicle', '16'], ['12/05/2022', 'LDV, Inc.', 'Propane Leak May Cause Fire', 'Equipment', '26'], ['12/05/2022', 'Tesla, Inc.', 'Suspension Fasteners Improperly Tightened', 'Vehicle', '9'], ['12/05/2022', 'Continental Tire the Americas, LLC', 'Tire Sidewall May Break', 'Tire', '2937'], ['12/02/2022', 'Terex South Dakota, Inc.', 'Boom Structure Improperly Welded', 'Vehicle', '431'], ['12/02/2022', 'Entegra Coach', 'Insufficient Air Brake Supply Volume/FMVSS 121', 'Vehicle', '394'], ['12/02/2022', 'Newmar Corporation', 'Steering Wheel Separation', 'Vehicle', '30'], ['12/02/2022', 'Pierce Manufacturing', 'Tie Rod Clamp Failure', 'Vehicle', '17'], ['12/01/2022', 'Terex South Dakota, Inc.', 'Incorrectly Machined Outrigger May Drift', 'Vehicle', '40'], ['12/01/2022', 'Chinook Motor Coach, LLC', 'Propane Leak May Cause Fire', 'Vehicle', '10'], ['11/30/2022', 'Proterra Operating Company, Inc.', 'Liquid in Battery Packs May Cause Fire', 'Vehicle', '18'], ['11/30/2022', 'Mazda North American Operations', 'Missing Headlight Adjustment Caps/FMVSS 108', 'Vehicle', '226'], ['11/29/2022', 'Xos, Inc.', 'Brake Lines Improperly Routed', 'Vehicle', '260'], ['11/29/2022', 'Holiday House, LLC', 'Cracked LP Gas Quick Disconnect Fitting', 'Vehicle', '26'], ['11/29/2022', 'Ford Motor Company', 'Driveshaft May Become Imbalanced', 'Vehicle', '18808'], ['11/29/2022', 'Winnebago Towable', 'Incorrect Cargo Carrying Capacity Label/FMVSS 110', 'Vehicle', '63'], ['11/29/2022', 'Winnebago Towable', 'Sharp Cabinet Handles May Cause Injury', 'Vehicle', '6553'], ['11/29/2022', 'Alexis Fire Equipment Company', 'Tie Rod Clamp Failure', 'Vehicle', '20'], ['11/29/2022', 'MW Company LLC', 'Wheels May Crack and Separate from the Rim', 'Equipment', '436'], ['11/28/2022', 'JD E-Commerce America Limited', 'Incorrect Installation Label and Design/FMVSS 213', 'Child Seat', '174'], ['11/28/2022', 'Kia America, Inc.', 'Side Curtain Air Bags Can Deploy Improperly', 'Vehicle', '76918'], ['11/23/2022', 'General Motors, LLC', 'Air Bags May Not Deploy in a Crash/FMVSS 208', 'Vehicle', '5'], ['11/23/2022', 'Chrysler (FCA US, LLC)', 'Communication Loss May Cause Engine Shutdown', 'Vehicle', '62909'], ['11/23/2022', 'Nissan North America, Inc.', 'Corroded Harness Connector May Start Fire', 'Vehicle', '125215'], ['11/23/2022', 'Navistar, Inc.', 'Fuel Vapor Line Without Heat Shielding Installed', 'Vehicle', '196'], ['11/23/2022', 'Navistar, Inc.', 'Hex Flange Lock Nut May Break', 'Vehicle', '25822'], ['11/23/2022', 'Navistar, Inc.', 'Hex Flange Lock Nut May Break', 'Vehicle', '5645'], ['11/23/2022', 'General Motors, LLC', 'Hex Flange Lock Nut May Break', 'Vehicle', '5861'], ['11/23/2022', 'Honda (American Honda Motor Co.)', 'Rearview Camera May Fail', 'Vehicle', '117445'], ['11/23/2022', 'General Motors, LLC', 'Rearview Camera May Fail', 'Vehicle', '10194'], ['11/23/2022', 'Chrysler (FCA US, LLC)', 'Shifter Assembly Not Properly Heat-Treated', 'Vehicle', '5834'], ['11/23/2022', 'Marion Body Works Inc.', 'Tie Rod Clamp Failure', 'Vehicle', '6'], ['11/23/2022', 'Daimler Trucks North America, LLC', 'Unexpected Shutdown of Battery Management System', 'Vehicle', '135'], ['11/23/2022', 'Daimler Trucks North America, LLC', 'Unexpected Shutdown of Battery Management System', 'Vehicle', '8'], ['11/22/2022', 'Aluminum Trailer Company (ATC)', 'Awning Fabric May Detach Causing Awning to Drop', 'Vehicle', '21'], ['11/21/2022', 'Winnebago Industries, Inc.', 'Awning May Extend Unintentionally', 'Vehicle', '4521'], ['11/21/2022', 'Volkswagen Group of America, Inc.', 'Control Module Shutdown Can Reduce Engine Power', 'Vehicle', '50883'], ['11/21/2022', 'Genuine Scooters, LLC', 'Fuel Pump Failure Can Cause Loss of Drive Power', 'Vehicle', '817'], ['11/21/2022', 'BMW of North America, LLC', 'Location May Be Unavailable for Emergency Response', 'Vehicle', '169'], ['11/18/2022', 'Shyft Group', 'Bumper May Detach', 'Vehicle', '153'], ['11/18/2022', 'Coach and Equipment Mfg. Corp.', 'Corrosion May Cause Fuel Line Leak', 'Vehicle', '353'], ['11/18/2022', 'Ford Motor Company', 'Cracked Fuel Injector May Leak and Cause a Fire', 'Vehicle', '521746'], ['11/18/2022', 'E-One Incorporated', 'Exhaust Heat May Cause Fire', 'Vehicle', '8'], ['11/18/2022', 'Gulf States Toyota, Inc.', 'Incorrect Load Carrying Capacity Label/FMVSS 110', 'Vehicle', '157'], ['11/18/2022', 'Shyft Group', 'Jump Seat Missing Safety Clip', 'Vehicle', '206'], ['11/18/2022', 'Proterra Operating Company, Inc.', 'Parking Brake Can Unintentionally Engage', 'Vehicle', '446'], ['11/18/2022', 'Midwest Fire Equipment & Repair Company', 'Software May Prevent Shift Between Operation Modes', 'Vehicle', '11'], ['11/17/2022', 'Navistar, Inc.', 'High Voltage Cables Labeled Incorrectly', 'Vehicle', '95'], ['11/17/2022', 'Navistar, Inc.', 'High Voltage Cables Labeled Incorrectly', 'Vehicle', '149'], ['11/17/2022', 'Lamborghini (Automobili Lamborghini)', 'Rear Glass Panels May Detach', 'Vehicle', '9'], ['11/17/2022', 'ScentLok Technologies', 'Vehicle Deodorizer May Overheat', 'Equipment', '16667'], ['11/16/2022', 'Shyft Group', 'Incorrect Side-View Image When Brake is Applied', 'Vehicle', '543'], ['11/15/2022', 'Volvo Bus Corporation', 'Emergency Lights May Fail to Activate', 'Vehicle', '14'], ['11/15/2022', 'Nova Bus (US) Inc.', 'Loose or Missing Steering Gear Box Fasteners', 'Vehicle', '827'], ['11/15/2022', 'Tesla, Inc.', 'Passenger Air Bag May Deploy Incorrectly/FMVSS 208', 'Vehicle', '29348'], ['11/15/2022', 'Tesla, Inc.', 'Taillight May Fail to Illuminate', 'Vehicle', '321628'], ['11/15/2022', 'Ford Motor Company', 'Windshield Wiper Motor May Fail', 'Vehicle', '474561'], ['11/14/2022', 'Daimler Trucks North America, LLC', 'Insufficient Passenger Protection/FMVSS 222', 'Vehicle', '20'], ['11/11/2022', 'Kia America, Inc.', 'Electrical Resistance at Main Relay May Cause Fire', 'Vehicle', '27030'], ['11/11/2022', 'Indian Motorcycle Company', 'Fuel Pump May Fail', 'Vehicle', '7812'], ['11/10/2022', 'Navistar, Inc.', 'Damaged Wheel Hub Locking Clips', 'Vehicle', '10'], ['11/10/2022', 'Toyota Motor Engineering & Manufacturing', 'Seat Belt Assembly Malfunction', 'Equipment', '93'], ['11/10/2022', 'Subaru of America, Inc.', 'Seat Belt Assembly Malfunction', 'Vehicle', '16'], ['11/10/2022', 'Shyft Group', 'Theft Deterrent Cover May Damage Brake Lines', 'Vehicle', '34'], ['11/10/2022', 'Chrysler (FCA US, LLC)', 'Transmission Fluid Leak May Cause Fire', 'Vehicle', '250079'], ['11/09/2022', 'Volkswagen Group of America, Inc.', 'Electric Motor Sealing Ring Incorrectly Assembled', 'Vehicle', '393'], ['11/09/2022', 'Volkswagen Group of America, Inc.', 'Front Windshield Wipers May Not Activate/FMVSS 104', 'Vehicle', '5'], ['11/09/2022', 'REV Recreation Group', 'Improperly Secured Entry Step Tread', 'Vehicle', '687'], ['11/07/2022', 'Carefree Of Colorado', 'Awning May Extend Unintentionally', 'Equipment', '8000'], ['11/07/2022', 'Proterra Operating Company, Inc.', 'Interlock Override Switch Not Installed', 'Vehicle', '3'], ['11/04/2022', 'Forest River, Inc.', 'Side Marker Lights Not Reflective/FMVSS 108', 'Vehicle', '2707'], ['11/03/2022', 'Bridgestone Americas Tire Operations', 'Damaged Tire Bead', 'Tire', '8464'], ['11/03/2022', 'Ford Motor Company', 'Rearview Camera Malfunction/FMVSS 111', 'Vehicle', '47046'], ['11/03/2022', 'General Motors, LLC', 'Running Lights May Not Deactivate/FMVSS 108', 'Vehicle', '338735'], ['11/03/2022', 'Corp. Micro Bird, Inc.', 'School Bus Rub Rails Incorrectly Attached', 'Vehicle', '777'], ['11/02/2022', 'Quality Trailers Ohio, Inc.', 'Coupler Improperly Welded', 'Vehicle', '534'], ['11/02/2022', 'International Thermal Research', 'Fuel Line in Heater May Leak', 'Equipment', '179'], ['11/02/2022', 'Volkswagen Group of America, Inc.', 'Incorrectly Folded Passenger Air Bag/FMVSS 208', 'Vehicle', '55'], ['11/02/2022', 'Volkswagen Group of America, Inc.', 'Inoperative Rearview Camera Display/FMVSS 111', 'Vehicle', '2607'], ['11/02/2022', 'Brenner Tank, LLC', 'Steering Arm May Fracture', 'Vehicle', '3'], ['11/02/2022', 'Bulk Tank International S. de R.L. de C.', 'Steering Arm May Fracture', 'Vehicle', '2'], ['11/02/2022', 'BMW of North America, LLC', 'Windshield May Not Be Attached Properly', 'Vehicle', '47'], ['11/01/2022', 'Daimler Trucks North America, LLC', 'Corroded Modulator Valve May Cause Brake Pull', 'Vehicle', '219390'], ['11/01/2022', 'Tesla, Inc.', 'Incorrect Side View Mirrors Installed/FMVSS 111', 'Equipment', '53'], ['11/01/2022', 'Tesla, Inc.', 'Loss of Power Steering Assist', 'Vehicle', '40168'], ['10/31/2022', 'Forest River, Inc.', 'Cross-Member May Not Retain Holding Tanks', 'Vehicle', '2018'], ['10/31/2022', 'Tiffin Motorhomes, Inc.', 'LPG Hose May Leak Fuel', 'Vehicle', '295'], ['10/31/2022', 'Hyundai Motor America', 'Seat Belt Pretensioners May Explode', 'Vehicle', '14933'], ['10/31/2022', 'Volkswagen Group of America, Inc.', 'Tire Pressure Loss Not Detected/FMVSS 138', 'Vehicle', '224704'], ['10/28/2022', 'Corp. Micro Bird, Inc.', 'Power Steering Pressure Line May Detach and Leak', 'Vehicle', '99'], ['10/28/2022', 'Corp. Micro Bird, Inc.', 'Power Steering Pressure Line May Detach and Leak', 'Vehicle', '1'], ['10/28/2022', 'Yokohama Off-Highway Tires America, Inc', 'Tires with Incorrect Date Code/FMVSS 119', 'Tire', '119'], ['10/27/2022', 'Hyundai Motor America', 'ABS Unit May Cause Engine Compartment Fire', 'Vehicle', '44396'], ['10/27/2022', 'Chrysler (FCA US, LLC)', 'Inoperative TPMS Sensor/FMVSS 138', 'Vehicle', '44212'], ['10/27/2022', 'Pierce Manufacturing', 'Insufficiently Welded Stokes Basket Brackets', 'Vehicle', '299'], ['10/26/2022', 'Sunset Park & RV Inc.', 'Awning Fabric May Detach Causing Awning to Drop', 'Vehicle', '867'], ['10/26/2022', 'Lamborghini (Automobili Lamborghini)', 'Inoperative Rearview Camera Display/FMVSS 111', 'Vehicle', '48'], ['10/26/2022', 'Volkswagen Group of America, Inc.', 'Inoperative Rearview Camera Display/FMVSS 111', 'Vehicle', '6076'], ['10/26/2022', 'Volkswagen Group of America, Inc.', 'Trailing Arm Bolts Improperly Tightened', 'Vehicle', '33'], ['10/25/2022', 'Porsche Cars North America, Inc.', 'Seat Belt Anchor May Detach from Seat', 'Vehicle', '15'], ['10/24/2022', 'Kia America, Inc.', 'Engine Compartment Fire', 'Vehicle', '71704'], ['10/24/2022', 'Gillig, LLC', 'Steering Shaft May Stick Causing Loss of Control', 'Vehicle', '388'], ['10/22/2022', 'Bombardier Recreational Products, Inc.', 'Electrical Harness May Contact Tire and Short', 'Vehicle', '46119'], ['10/21/2022', 'Thule, Inc.', 'Bike Arm Assembly Weld Defect', 'Equipment', '4759'], ['10/21/2022', 'Altec Industries, Inc.', 'Jib Winch May be Operated without Outriggers Set', 'Vehicle', '71'], ['10/21/2022', 'Winnebago Industries, Inc.', 'LP Fuel Line May Contact Tire and Cause a Gas Leak', 'Vehicle', '4616'], ['10/21/2022', 'Tesla, Inc.', 'Seat Belt Buckle, Anchor Incorrectly Reassembled', 'Vehicle', '24064'], ['10/21/2022', 'Autocar, LLC', 'Steering Column Pinch Bolt Improperly Secured', 'Vehicle', '2136'], ['10/21/2022', 'Daimler Vans USA, LLC', 'Vehicle Rollaway from Guide Bushing Fatigue', 'Vehicle', '124305'], ['10/20/2022', 'Carrier Corporation', 'Exposed Wiring May Cause Fire', 'Equipment', '7299'], ['10/20/2022', 'Shyft Group', 'Front and Rear Suspension Fasteners Can Break', 'Vehicle', '4'], ['10/20/2022', 'Ford Motor Company', 'Fuel Pump Control Module Bracket Not Secured', 'Vehicle', '26'], ['10/20/2022', 'Ford Motor Company', 'HVAC Controls May Become Inoperative', 'Vehicle', '31339'], ['10/20/2022', 'Ford Motor Company', 'Improperly Tightened Bolt on Rear Axle', 'Vehicle', '596'], ['10/20/2022', 'Volvo Car USA, LLC', 'Loss of Drive Power', 'Vehicle', '15674'], ['10/20/2022', 'Orange EV', 'Parking Brake May Not Engage', 'Vehicle', '106'], ['10/20/2022', 'E-One Incorporated', 'Tie Rod Clamp Failure', 'Vehicle', '23'], ['10/19/2022', 'Innovative Specialties LLC', 'Deteriorating Rubber May Cause Axle Misalignment', 'Vehicle', '630'], ['10/19/2022', 'Kalmar Solutions, LLC', 'Electrical Short Circuit May Cause Engine Stall', 'Vehicle', '9'], ['10/19/2022', 'Thor Motor Coach', 'Incorrect OCCC Label/FMVSS 120', 'Vehicle', '69'], ['10/19/2022', 'Shyft Group', 'Insufficient Air Brake Supply Volume/FMVSS 121', 'Vehicle', '540'], ['10/18/2022', 'Comoto Holdings, Inc.', 'Helmets May Not Protect From Impact/FMVSS 218', 'Equipment', '2362'], ['10/18/2022', 'PACCAR Incorporated', 'Tie Rod Clamps Failure', 'Vehicle', '79'], ['10/18/2022', 'Harley-Davidson Motor Company', 'Unintended Brake Light Illumination/FMVSS 108', 'Vehicle', '199419'], ['10/17/2022', 'PACCAR Incorporated', 'Display May Freeze/FMVSS 101 & 102', 'Vehicle', '74730'], ['10/17/2022', 'Precision Industries, Inc.', 'Loss of Vehicle Lighting', 'Vehicle', '2'], ['10/17/2022', 'Spartan Fire, LLC', 'Tie Rod Clamps Failure', 'Vehicle', '225'], ['10/14/2022', 'HD Trailer MFG. LLC', 'Axle May Crack and Separate', 'Vehicle', '15'], ['10/14/2022', 'Jayco, Inc.', 'Cooktop Flame May Invert', 'Vehicle', '2748'], ['10/14/2022', 'Starcraft RV', 'Cooktop Flame May Invert', 'Vehicle', '923'], ['10/14/2022', 'Highland Ridge RV', 'Cooktop Flame May Invert', 'Vehicle', '1907'], ['10/14/2022', 'SAF-Holland', 'Loose Brake Pad Retaining Clip May Damage Tire', 'Equipment', '10591'], ['10/14/2022', 'Shyft Group', 'Park Brake Interlock Valve Incorrectly Installed', 'Vehicle', '15'], ['10/13/2022', 'Storyteller Overland', 'Auxiliary Power System Wires Incorrectly Routed', 'Vehicle', '58'], ['10/13/2022', 'Chrysler (FCA US, LLC)', 'Front Seat Belt Pretensioners May Fail', 'Vehicle', '2802'], ['10/13/2022', 'Chrysler (FCA US, LLC)', 'Fuel Pump Failure', 'Equipment', '184'], ['10/13/2022', 'Chrysler (FCA US, LLC)', 'Fuel Pump Failure', 'Vehicle', '60413'], ['10/13/2022', 'General Motors, LLC', 'High Voltage Battery Enclosure Not Properly Sealed', 'Vehicle', '797'], ['10/13/2022', 'Jayco, Inc.', 'Improperly Fitted Fuel Cap May Leak', 'Vehicle', '42'], ['10/13/2022', 'Nissan North America, Inc.', 'Rearview Display Inoperative/FMVSS 111', 'Vehicle', '27344'], ['10/13/2022', 'Chrysler (FCA US, LLC)', 'Unsecured Fuse inside High Voltage Battery', 'Vehicle', '13722'], ['10/12/2022', 'Volkswagen Group of America, Inc.', 'Delayed Rearview Camera Image/FMVSS 111', 'Vehicle', '5'], ['10/12/2022', 'Blue Bird Body Company', 'Entrance Door Handrail Incorrect Diameter', 'Vehicle', '20'], ['10/12/2022', 'Daimler Trucks North America, LLC', 'Insufficient Roof Panel Joint Strength/FMVSS 221', 'Vehicle', '17613'], ['10/11/2022', 'Alamo Group Inc.', 'Hopper Hydraulic Lift System Malfunction', 'Vehicle', '3'], ['10/11/2022', 'Chrysler (FCA US, LLC)', 'Incorrect Brake Hose Diameter/FMVSS 106', 'Equipment', '183'], ['10/11/2022', 'Chrysler (FCA US, LLC)', 'Incorrect Brake Hose Diameter/FMVSS 106', 'Vehicle', '26961'], ['10/11/2022', 'Kia America, Inc.', 'Loss of Drive Power', 'Vehicle', '69038'], ['10/10/2022', 'Fontaine Modification', 'Hydrostatic Pump Failure', 'Vehicle', '56'], ['10/10/2022', 'Wabash National Corporation', 'Missing Conspicuity Tape/FMVSS 108', 'Vehicle', '740'], ['10/09/2022', 'KZRV, L.P.', 'Window may be Missing Emergency Exit', 'Vehicle', '42'], ['10/08/2022', 'Riverside RV', 'Awning Fabric May Detach Causing Awning to Drop', 'Vehicle', '826'], ['10/07/2022', 'Forest River, Inc.', 'Bunk Bed Supporting Brackets Improperly Installed', 'Vehicle', '25'], ['10/07/2022', 'BMW of North America, LLC', 'Clutch Cover May Loosen and Leak Oil', 'Vehicle', '951'], ['10/07/2022', 'Volkswagen Group of America, Inc.', 'Damaged Connecting Rod Bearings', 'Vehicle', '74067'], ['10/07/2022', 'Newmar Corporation', 'Extended Brake Pedal May Contact Dash Panel', 'Vehicle', '32'], ['10/07/2022', 'Newmar Corporation', 'Incorrect Rear Tire Size on Label/FMVSS 120', 'Vehicle', '179'], ['10/07/2022', 'BMW of North America, LLC', 'Obstructed Rearview Camera Image/FMVSS 111', 'Vehicle', '1296'], ['10/07/2022', 'Shyft Group', 'Transmission Shifter Cable May Contact Exhaust', 'Vehicle', '451'], ['10/06/2022', 'Harley-Davidson Motor Company', 'Handlebar May Break', 'Vehicle', '862'], ['10/06/2022', 'Hyundai Motor America', 'Loss of Drive Power', 'Vehicle', '56148'], ['10/06/2022', 'Rivian Automotive, LLC', 'Steering Knuckle and Control Arm May Separate', 'Vehicle', '12212'], ['10/05/2022', 'Bentley Motors, Inc.', 'Blank Rearview Camera Image/FMVSS 111', 'Vehicle', '3134'], ['10/05/2022', 'Blue Bird Body Company', 'Insufficient Clearance Between Cable and Fuel Line', 'Vehicle', '2559'], ['10/05/2022', 'Blue Bird Body Company', 'Insufficient Clearance Between Cable and Fuel Line', 'Vehicle', '25'], ['10/05/2022', 'Volkswagen Group of America, Inc.', 'Rearview Display Inoperative/FMVSS 111', 'Vehicle', '170296'], ['10/05/2022', 'BMW of North America, LLC', 'Transmission Final Drive Gear Improperly Welded', 'Vehicle', '1'], ['10/04/2022', 'Forest River, Inc.', 'Awning May Unintentionally Extend or Retract', 'Vehicle', '962'], ['10/04/2022', 'Blue Bird Body Company', 'Damage to LPG Supply Line', 'Vehicle', '66'], ['10/04/2022', 'Contract Manufacturer, LLC', 'Incorrect Size Axle Installed', 'Vehicle', '142'], ['10/03/2022', 'East Texas Trailer', 'Axle May Crack and Separate', 'Vehicle', '3'], ['09/30/2022', 'Mercedes-Benz USA, LLC', 'Disabled Safety Features from Unsecure 12V Battery', 'Vehicle', '19968'], ['09/30/2022', 'Forest River, Inc.', 'Fresh Water Tank May Dislodge', 'Vehicle', '5168'], ['09/30/2022', 'Keystone RV Company', 'Improperly Tightened Axle U-Bolts', 'Vehicle', '721'], ['09/30/2022', 'Great Dane Trailers', 'Loose Brake Pad Retaining Clip May Damage Tire', 'Vehicle', '2439'], ['09/30/2022', 'Braun Ambulances', 'Rear Door Striker Bolt May Dislodge', 'Vehicle', '1240'], ['09/30/2022', 'Ford Motor Company', 'Rear Stabilizer Bar Brackets May Break', 'Vehicle', '26910'], ['09/30/2022', 'Mercedes-Benz USA, LLC', 'Seatback Lock Failure', 'Vehicle', '59574'], ['09/30/2022', 'Meritor, Inc.', 'Tie Rod Clamp Failure', 'Equipment', '1601'], ['09/30/2022', 'Ford Motor Company', 'Unintended Brake Light Illumination/FMVSS 108', 'Vehicle', '11239'], ['09/29/2022', 'Chrysler (FCA US, LLC)', 'Dim Amber Side Reflector/FMVSS 108', 'Equipment', '30785'], ['09/29/2022', 'Chrysler (FCA US, LLC)', 'Dim Amber Side Reflector/FMVSS 108', 'Vehicle', '83453'], ['09/29/2022', 'BMW of North America, LLC', 'Front Parking Light Malfunction/FMVSS 108', 'Vehicle', '3315'], ['09/29/2022', 'Lucid USA, Inc.', 'Front Tow Eye Bracket May Detach During Towing', 'Vehicle', '571'], ['09/29/2022', 'Keystone RV Company', 'Hydraulic Leveling Leg Foot Pads May Separate', 'Vehicle', '9678'], ['09/29/2022', 'General Motors, LLC', \"Loose Bolt in Driver's Seat Frame\", 'Vehicle', '6895'], ['09/29/2022', 'Power Solutions International, Inc.', 'Unexpected Engine Shut Down', 'Equipment', '8046'], ['09/28/2022', 'BMW of North America, LLC', 'Headlights Missing Metallic Coating/FMVSS 108', 'Vehicle', '2'], ['09/28/2022', 'Daimler Trucks North America, LLC', 'Tie Rod Clamps Failure', 'Vehicle', '36'], ['09/27/2022', 'Lightning eMotors Inc.', 'Brake and ABS Warning Light Failure/FMVSS 101, 105', 'Vehicle', '226'], ['09/27/2022', 'Haldex Commercial Vehicle Systems', 'Loose Brake Pad Retaining Clip May Damage Tire', 'Equipment', '30469'], ['09/27/2022', 'MANCHESTER TANK & EQUIPMENT CO', 'Propane Leak May Cause Fire', 'Equipment', '6500'], ['09/26/2022', 'Volkswagen Group of America, Inc.', 'Brake Lines May Leak', 'Vehicle', '555'], ['09/26/2022', 'Seagrave Fire Apparatus, LLC', 'Tie Rod Clamp Failure', 'Vehicle', '9'], ['09/26/2022', 'Doosan Portable Power', 'Wheel Bearing Seal May Leak Grease On Brakes', 'Vehicle', '702'], ['09/23/2022', 'McNeilus Truck & Manufacturing, Inc.', 'Ejector Welds May Fail', 'Vehicle', '1140'], ['09/23/2022', 'Corp. Micro Bird, Inc.', 'Loose Connection of Power Cable', 'Vehicle', '45'], ['09/23/2022', 'Corp. Micro Bird, Inc.', 'Loose Connection of Power Cable', 'Vehicle', '2753'], ['09/22/2022', 'General Motors, LLC', 'Blank Instrument Panel Display', 'Vehicle', '186'], ['09/22/2022', 'General Motors, LLC', 'Illegible Tire Label/FMVSS 110', 'Vehicle', '24'], ['09/22/2022', 'Osage Industries, Inc.', 'Loss of Vehicle Lighting', 'Vehicle', '14'], ['09/22/2022', 'General Motors, LLC', 'Rearview Camera May Fail', 'Vehicle', '95231'], ['09/22/2022', 'Navistar, Inc.', 'Tie Rod Clamp Failure', 'Vehicle', '451'], ['09/22/2022', 'Subaru of America, Inc.', 'Windshield May Detach in a Crash/FMVSS 212', 'Vehicle', '42'], ['09/21/2022', 'Skinny Guy Campers LLC', 'Cracked LP Gas Quick Disconnect Fitting', 'Equipment', '17'], ['09/21/2022', 'Volvo Trucks North America', 'High Voltage Battery Pack May Short Circuit', 'Vehicle', '8'], ['09/21/2022', 'Mack Trucks, Inc.', 'High Voltage Battery Pack May Short Circuit', 'Vehicle', '1'], ['09/21/2022', 'Volkswagen Group of America, Inc.', 'Radiator Incorrectly Attached to Intercooler', 'Vehicle', '8038'], ['09/21/2022', 'Dexter Axle Company', 'Steering Arm May Fracture', 'Equipment', '81'], ['09/20/2022', 'ZF North America, Inc.', 'Missing or Loose Brake Pedal Locking Screw', 'Equipment', '137'], ['09/20/2022', 'Ducati North America', 'Oil Cooler Hose May Leak Oil', 'Vehicle', '1586'], ['09/19/2022', 'Blackbeards Motorcycle Gear, Inc.', 'Helmets May Not Protect From Impact/FMVSS 218', 'Equipment', '522'], ['09/19/2022', 'Liquid Transport, Inc', 'Hub May Separate from Axle Wheel End', 'Vehicle', '3'], ['09/19/2022', 'Collins Bus Corporation', 'Incorrect Emergency Exit Label/FMVSS 217', 'Vehicle', '3514'], ['09/19/2022', 'Prevost Car (US) Inc.', 'Incorrect Seat Belt Installed/FMVSS 208', 'Vehicle', '255'], ['09/19/2022', 'Tesla, Inc.', 'Power Windows May Pinch/FMVSS 118', 'Vehicle', '1096762'], ['09/19/2022', 'Volkswagen Group of America, Inc.', 'Rear Window May Break', 'Vehicle', '4'], ['09/19/2022', 'Kia America, Inc.', 'Tow Hitch Harness Fire While Parked or Driving', 'Vehicle', '70887'], ['09/16/2022', 'Winnebago Industries, Inc.', 'Awning May Extend Unintentionally', 'Vehicle', '5084'], ['09/16/2022', 'Winnebago Industries, Inc.', 'Awning May Extend Unintentionally', 'Vehicle', '6540'], ['09/16/2022', 'Forest River, Inc.', 'LPG Quick Disconnect Improperly Tightened', 'Vehicle', '284'], ['09/16/2022', 'Autocar, LLC', 'Tie Rod Clamps Failure', 'Vehicle', '236'], ['09/15/2022', 'Corp. Micro Bird, Inc.', 'Charging Port Wires May Overheat', 'Vehicle', '7'], ['09/15/2022', 'Navistar, Inc.', 'Connecting Rod May Crack and Cause Engine Failure', 'Vehicle', '7918'], ['09/15/2022', 'Nissan North America, Inc.', 'Loss of Power Steering Assist', 'Vehicle', '20040'], ['09/15/2022', 'Excellance, Inc', 'Loss of Vehicle Lighting', 'Vehicle', '3'], ['09/14/2022', 'Volkswagen Group of America, Inc.', 'Engine Control Unit Software May Cause Stall', 'Vehicle', '2'], ['09/14/2022', 'Ford Motor Company', 'Fuel Line May Be Loose', 'Vehicle', '69'], ['09/14/2022', 'Ford Motor Company', 'Improper Air Bag Deployment/FMVSS 208', 'Vehicle', '74'], ['09/14/2022', 'Nikola Corporation', 'Improperly Installed Seat Belt Assembly', 'Vehicle', '93'], ['09/14/2022', 'Sumitomo Rubber USA, LLC', 'Incomplete Curing of the Tread Base Rubber', 'Tire', '5814'], ['09/14/2022', 'Lippert', 'Incorrect Outer Bearings May Overheat', 'Equipment', '404'], ['09/14/2022', 'Daimler Trucks North America, LLC', 'Insufficient Rear Panel Joint Strength/FMVSS 221', 'Vehicle', '1259'], ['09/14/2022', 'Ford Motor Company', 'Parking Lights May Flicker/FMVSS 108', 'Vehicle', '86050'], ['09/13/2022', 'BMW of North America, LLC', 'Battery Electrode Improperly Sized', 'Vehicle', '16'], ['09/12/2022', 'Mercedes-Benz USA, LLC', 'Disabled ABS & Stability Control System', 'Vehicle', '4'], ['09/12/2022', 'Spartan Fire, LLC', 'Front Wheel Parking Brake Failure', 'Vehicle', '8'], ['09/12/2022', 'Daimler Trucks North America, LLC', 'Improperly Installed Steering Shaft Bolt', 'Vehicle', '200'], ['09/12/2022', 'Farber Specialty Vehicles', 'Loss of Vehicle Lighting', 'Vehicle', '1'], ['09/12/2022', 'Mercedes-Benz USA, LLC', 'Rear Door Window Trim Bars May Detach', 'Vehicle', '161000'], ['09/12/2022', 'Mercedes-Benz USA, LLC', 'Short Circuit from Moisture Accumulation in Trunk', 'Vehicle', '6752'], ['09/08/2022', 'Volkswagen Group of America, Inc.', 'Fuel Tank Vent Pipe May Be Damaged', 'Vehicle', '13004'], ['09/08/2022', 'BMW of North America, LLC', 'Horn Not Attached Securely', 'Vehicle', '252'], ['09/08/2022', 'Terex South Dakota, Inc.', 'Platform Leveling Cylinder Support Welds Failure', 'Vehicle', '194'], ['09/08/2022', 'Ford Motor Company', 'Wheel Lug Nuts Not Tightened Correctly', 'Vehicle', '1519'], ['09/07/2022', 'BMW of North America, LLC', 'Third-Row Seat Springs Improperly Installed', 'Vehicle', '246'], ['09/07/2022', 'Nissan North America, Inc.', 'Unsecured Transmission May Cause Rollaway', 'Vehicle', '197230'], ['09/06/2022', 'Keystone RV Company', 'Electric Stabilizer Jack Switch May Short', 'Vehicle', '536'], ['09/06/2022', 'Alamo Group Inc.', 'Hose Reel Assembly Failure', 'Vehicle', '150'], ['09/06/2022', 'Forest River, Inc.', 'Secondary Emergency Exit Missing', 'Vehicle', '49'], ['09/01/2022', 'Vermeer Manufacturing Company', 'Frame Structure Failure', 'Vehicle', '45'], ['09/01/2022', 'Honda (American Honda Motor Co.)', 'Engine Stall or Loss of Drive from Software Error', 'Vehicle', '1561'], ['09/01/2022', 'Toyota Motor Engineering & Manufacturing', 'Parking Brake May Fail/FMVSS 135', 'Vehicle', '83725'], ['09/01/2022', 'Nissan North America, Inc.', 'Seat Belt Not Retracting Properly/FMVSS 208 & 209', 'Vehicle', '8391'], ['09/01/2022', 'Jayco, Inc.', 'Torsion Bar Assembled Incorrectly', 'Vehicle', '245'], ['09/01/2022', 'Jayco, Inc.', 'Water Drain Not Installed In Air Intake Box', 'Vehicle', '856'], ['08/31/2022', 'Nissan North America, Inc.', 'Fuel Tank May Leak', 'Vehicle', '190'], ['08/31/2022', 'Jayco, Inc.', 'Incorrectly Routed Refrigerator LP Gas Line', 'Vehicle', '45'], ['08/31/2022', 'Volkswagen Group of America, Inc.', 'Loose Hitch Bolts May Allow Trailer to Separate', 'Vehicle', '3184'], ['08/31/2022', 'Shyft Group', 'Welds May Be Missing Or Crack In Frame', 'Vehicle', '2139'], ['08/30/2022', 'Porsche Cars North America, Inc.', 'Headlight Adjustment Screw Missing Cover/FMVSS 108', 'Vehicle', '222858'], ['08/30/2022', 'REV Recreation Group', 'Hydraulic Lines Improperly Routed', 'Vehicle', '4395'], ['08/30/2022', 'Oshkosh Corporation', 'Steering Gear Assembled Incorrectly', 'Equipment', '143'], ['08/29/2022', 'Volkswagen Group of America, Inc.', 'Front Passenger Air Bag May Not Deploy Properly', 'Vehicle', '4117'], ['08/29/2022', 'Daimler Trucks North America, LLC', 'Hood Bezel Covers May Detach', 'Vehicle', '3498'], ['08/29/2022', 'Roadtrek Inc.', 'Improperly Tightened Seat Mounting Bolts/FMVSS 207', 'Vehicle', '36'], ['08/29/2022', 'Wayfarer', 'Improperly Tightened Wheel Lug Nuts', 'Vehicle', '9'], ['08/29/2022', 'DRV Suites', 'Incorrect Placement of Rear Lights/FMVSS 108', 'Vehicle', '491'], ['08/29/2022', 'Kia America, Inc.', 'Loose Alternator Battery Nut', 'Vehicle', '19701'], ['08/29/2022', 'Cruise LLC', 'Software May Cause Improper ADS Response', 'Equipment', '80'], ['08/26/2022', 'Ford Motor Company', 'Blower Motor Failure May Cause Fire', 'Vehicle', '198482'], ['08/26/2022', 'Ford Motor Company', 'Cloudy Camera Lens May Reduce Rear Visibility', 'Vehicle', '277040'], ['08/26/2022', 'Hino Motors Sales U.S.A., Inc.', 'Electrical Short Circuit May Cause Engine Stall', 'Vehicle', '7'], ['08/26/2022', 'Forest River, Inc.', 'Incorrect Axle Rating on Federal Placard', 'Vehicle', '6'], ['08/26/2022', 'Chrysler (FCA US, LLC)', 'Internal ECM Short May Cause Loss of Drive Power', 'Vehicle', '4907'], ['08/26/2022', 'Ford Motor Company', 'Rear Axle Half Shaft May Break Under Load', 'Vehicle', '1175'], ['08/26/2022', 'Dennis Eagle Inc.', 'Steering Cross Shaft Malfunction', 'Vehicle', '25'], ['08/25/2022', 'Rivian Automotive, LLC', 'Improperly Secured Front Seat Belt Anchor', 'Vehicle', '207'], ['08/25/2022', 'Chrysler (FCA US, LLC)', 'Rearview Camera Image May Not Display/FMVSS 111', 'Vehicle', '7895'], ['08/25/2022', 'General Motors, LLC', 'Secondary Hood Latch Corrosion', 'Vehicle', '120688'], ['08/25/2022', 'PT. Elangperdana Tyre Industry', 'Tire Sidewall Separation/ FMVSS 139', 'Tire', '31500']]\n"
          ]
        }
      ],
      "source": [
        "from csv import reader\n",
        "\n",
        "with open('data/recalls-truncated.csv', newline='') as stream:\n",
        "    csvReader = reader(stream)\n",
        "    \n",
        "    rows = [ row for row in csvReader ]\n",
        "\n",
        "    print(rows)"
      ]
    },
    {
      "cell_type": "markdown",
      "id": "cc206deb-7c9b-4963-b8b2-9b7c4cd7b889",
      "metadata": {},
      "source": [
        "After observing the data, we can extract the set of unique manufacturers, removing the header row:"
      ]
    },
    {
      "cell_type": "code",
      "execution_count": 2,
      "id": "d88fe895-4a0c-4eeb-8f0d-2a5af0302c54",
      "metadata": {
        "trusted": true
      },
      "outputs": [
        {
          "name": "stdout",
          "output_type": "stream",
          "text": [
            "{'Carefree Of Colorado', 'Kawasaki Motors Corp., U.S.A.', 'BMW of North America, LLC', 'Gillig, LLC', 'Bulk Tank International S. de R.L. de C.', 'KZRV, L.P.', 'Wabash National Corporation', 'Yokohama Tire Corporation', 'Winnebago Towable', 'Hino Motors Sales U.S.A., Inc.', 'PACCAR Incorporated', 'Innovative Specialties LLC', 'Polestar Automotive USA, Inc.', 'Newmar Corporation', 'East Texas Trailer', 'Marion Body Works Inc.', 'ZF North America, Inc.', 'Entegra Coach', 'Fontaine Modification', 'Great Dane Trailers', 'Doosan Portable Power', 'Shyft Group', 'MW Company LLC', 'Hendrickson USA. L.L.C.', 'Yokohama Off-Highway Tires America, Inc', 'Skinny Guy Campers LLC', 'Nissan North America, Inc.', 'Carrier Corporation', 'PT. Elangperdana Tyre Industry', 'E-One Incorporated', 'Chinook Motor Coach, LLC', 'General Motors, LLC', 'New Flyer of America, Inc.', 'Volvo Trucks North America', 'Starcraft RV', 'Braun Ambulances', 'Altec Industries, Inc.', 'Bentley Motors, Inc.', 'Tiffin Motorhomes, Inc.', 'HD Trailer MFG. LLC', 'REV Recreation Group', 'Proterra Operating Company, Inc.', 'Honda (American Honda Motor Co.)', 'Rivian Automotive, LLC', 'Lucid USA, Inc.', 'Indian Motorcycle Company', 'Hyundai Translead', 'Kibbi, LLC', 'Daimler Trucks North America, LLC', 'Midwest Fire Equipment & Repair Company', 'Brenner Tank, LLC', 'Shadow Trailer, LLC', 'Orange EV', 'Farber Specialty Vehicles', 'International Thermal Research', 'Triple E Recreational Vehicles', 'Thor Motor Coach', 'SAF-Holland', 'Forest River, Inc.', 'Corp. Micro Bird, Inc.', 'Thule, Inc.', 'Alexis Fire Equipment Company', 'Highland Ridge RV', 'Kia America, Inc.', 'Sunset Park & RV Inc.', 'Xos, Inc.', 'Ford Motor Company', 'Kalmar Solutions, LLC', 'Mazda North American Operations', 'Storyteller Overland', 'Prevost Car (US) Inc.', 'Alamo Group Inc.', 'Daimler Vans USA, LLC', 'Ducati North America', 'Roadtrek Inc.', 'Meritor, Inc.', 'Riverside RV', 'JD E-Commerce America Limited', 'Continental Tire the Americas, LLC', 'Gulf States Toyota, Inc.', 'DRV Suites', 'Old School Trailers, LLC', 'Aluminum Trailer Company (ATC)', 'Subaru of America, Inc.', 'Jayco, Inc.', 'Hyundai Motor America', 'Porsche Cars North America, Inc.', 'LDV, Inc.', 'Sumitomo Rubber USA, LLC', 'Mack Trucks, Inc.', 'Winnebago Industries, Inc.', 'Blackbeards Motorcycle Gear, Inc.', 'Autocar, LLC', 'Haldex Commercial Vehicle Systems', 'Liquid Transport, Inc', 'Dennis Eagle Inc.', 'Holiday House, LLC', 'Airstream, Inc.', 'Blue Bird Body Company', 'Bombardier Recreational Products, Inc.', 'McNeilus Truck & Manufacturing, Inc.', 'Bridgestone Americas Tire Operations', 'Williamsen-Godwin Truck Body Company LLC', 'Nova Bus (US) Inc.', 'Power Solutions International, Inc.', 'Seagrave Fire Apparatus, LLC', 'Volvo Car USA, LLC', 'Pierce Manufacturing', 'Osage Industries, Inc.', 'Cruise LLC', 'Keystone RV Company', 'Terex South Dakota, Inc.', 'Precision Industries, Inc.', 'Quality Trailers Ohio, Inc.', 'Harley-Davidson Motor Company', 'Lightning eMotors Inc.', 'Easymile Inc.', 'Spartan Fire, LLC', 'Volvo Bus Corporation', 'Collins Bus Corporation', 'Navistar, Inc.', 'MANCHESTER TANK & EQUIPMENT CO', 'Contract Manufacturer, LLC', 'Toyota Motor Engineering & Manufacturing', 'East Manufacturing Corp.', 'Lippert', 'KTM North America, Inc.', 'WARN Industries, Inc.', 'Mercedes-Benz USA, LLC', 'Oshkosh Corporation', 'Vermeer Manufacturing Company', 'Wayfarer', 'Genuine Scooters, LLC', 'Chrysler (FCA US, LLC)', 'Dexter Axle Company', 'Volkswagen Group of America, Inc.', 'Excellance, Inc', 'Ridewell Corporation', 'Comoto Holdings, Inc.', 'Tesla, Inc.', 'Michelin North America, Inc.', 'Lamborghini (Automobili Lamborghini)', 'Coach and Equipment Mfg. Corp.', 'Nikola Corporation', 'McLaren Automotive Incorporated', 'Lion Electric Company', 'ScentLok Technologies'}\n"
          ]
        }
      ],
      "source": [
        "from csv import reader\n",
        "\n",
        "with open('data/recalls-truncated.csv', newline='') as stream:\n",
        "    csvReader = reader(stream)\n",
        "    \n",
        "    rows = [ row for row in csvReader ]\n",
        "    rows.pop(0)\n",
        "    manufacturers = { manufacturer for [ date, manufacturer, subject, recallType, count ] in rows }\n",
        "    \n",
        "    print(manufacturers)"
      ]
    },
    {
      "cell_type": "markdown",
      "id": "08414c1e-fd81-4a73-8703-f6b37cfe189f",
      "metadata": {},
      "source": [
        "Using the set of manufacturers, we can group rows by manufacturer, retaining only the sums of the integer counts of potential vehicles affected for each group:"
      ]
    },
    {
      "cell_type": "code",
      "execution_count": 3,
      "id": "6178d62c-49ad-4915-9d4c-1a7fa5011f3e",
      "metadata": {
        "scrolled": true,
        "trusted": true
      },
      "outputs": [
        {
          "name": "stdout",
          "output_type": "stream",
          "text": [
            "{'Carefree Of Colorado': 0, 'Kawasaki Motors Corp., U.S.A.': 3372, 'BMW of North America, LLC': 20385, 'Gillig, LLC': 388, 'Bulk Tank International S. de R.L. de C.': 2, 'KZRV, L.P.': 42, 'Wabash National Corporation': 740, 'Yokohama Tire Corporation': 0, 'Winnebago Towable': 6616, 'Hino Motors Sales U.S.A., Inc.': 977, 'PACCAR Incorporated': 93032, 'Innovative Specialties LLC': 630, 'Polestar Automotive USA, Inc.': 66, 'Newmar Corporation': 241, 'East Texas Trailer': 3, 'Marion Body Works Inc.': 6, 'ZF North America, Inc.': 0, 'Entegra Coach': 394, 'Fontaine Modification': 56, 'Great Dane Trailers': 2439, 'Doosan Portable Power': 702, 'Shyft Group': 4085, 'MW Company LLC': 0, 'Hendrickson USA. L.L.C.': 0, 'Yokohama Off-Highway Tires America, Inc': 0, 'Skinny Guy Campers LLC': 0, 'Nissan North America, Inc.': 378410, 'Carrier Corporation': 0, 'PT. Elangperdana Tyre Industry': 0, 'E-One Incorporated': 31, 'Chinook Motor Coach, LLC': 10, 'General Motors, LLC': 1432083, 'New Flyer of America, Inc.': 746, 'Volvo Trucks North America': 420, 'Starcraft RV': 923, 'Braun Ambulances': 2572, 'Altec Industries, Inc.': 71, 'Bentley Motors, Inc.': 3134, 'Tiffin Motorhomes, Inc.': 295, 'HD Trailer MFG. LLC': 15, 'REV Recreation Group': 6622, 'Proterra Operating Company, Inc.': 467, 'Honda (American Honda Motor Co.)': 119025, 'Rivian Automotive, LLC': 12419, 'Lucid USA, Inc.': 571, 'Indian Motorcycle Company': 12465, 'Hyundai Translead': 39, 'Kibbi, LLC': 292, 'Daimler Trucks North America, LLC': 242231, 'Midwest Fire Equipment & Repair Company': 11, 'Brenner Tank, LLC': 3, 'Shadow Trailer, LLC': 12, 'Orange EV': 106, 'Farber Specialty Vehicles': 1, 'International Thermal Research': 0, 'Triple E Recreational Vehicles': 341, 'Thor Motor Coach': 69, 'SAF-Holland': 0, 'Forest River, Inc.': 11481, 'Corp. Micro Bird, Inc.': 3682, 'Thule, Inc.': 0, 'Alexis Fire Equipment Company': 20, 'Highland Ridge RV': 1907, 'Kia America, Inc.': 337089, 'Sunset Park & RV Inc.': 867, 'Xos, Inc.': 260, 'Ford Motor Company': 1809981, 'Kalmar Solutions, LLC': 9, 'Mazda North American Operations': 226, 'Storyteller Overland': 58, 'Prevost Car (US) Inc.': 277, 'Alamo Group Inc.': 153, 'Daimler Vans USA, LLC': 124305, 'Ducati North America': 1586, 'Roadtrek Inc.': 36, 'Meritor, Inc.': 0, 'Riverside RV': 826, 'JD E-Commerce America Limited': 0, 'Continental Tire the Americas, LLC': 0, 'Gulf States Toyota, Inc.': 157, 'DRV Suites': 491, 'Old School Trailers, LLC': 16, 'Aluminum Trailer Company (ATC)': 21, 'Subaru of America, Inc.': 271752, 'Jayco, Inc.': 4063, 'Hyundai Motor America': 116330, 'Porsche Cars North America, Inc.': 222954, 'LDV, Inc.': 0, 'Sumitomo Rubber USA, LLC': 0, 'Mack Trucks, Inc.': 1, 'Winnebago Industries, Inc.': 20761, 'Blackbeards Motorcycle Gear, Inc.': 0, 'Autocar, LLC': 2372, 'Haldex Commercial Vehicle Systems': 0, 'Liquid Transport, Inc': 3, 'Dennis Eagle Inc.': 25, 'Holiday House, LLC': 26, 'Airstream, Inc.': 2192, 'Blue Bird Body Company': 2670, 'Bombardier Recreational Products, Inc.': 46119, 'McNeilus Truck & Manufacturing, Inc.': 1140, 'Bridgestone Americas Tire Operations': 0, 'Williamsen-Godwin Truck Body Company LLC': 0, 'Nova Bus (US) Inc.': 1346, 'Power Solutions International, Inc.': 0, 'Seagrave Fire Apparatus, LLC': 9, 'Volvo Car USA, LLC': 15748, 'Pierce Manufacturing': 316, 'Osage Industries, Inc.': 14, 'Cruise LLC': 0, 'Keystone RV Company': 10935, 'Terex South Dakota, Inc.': 665, 'Precision Industries, Inc.': 2, 'Quality Trailers Ohio, Inc.': 534, 'Harley-Davidson Motor Company': 200281, 'Lightning eMotors Inc.': 253, 'Easymile Inc.': 4, 'Spartan Fire, LLC': 233, 'Volvo Bus Corporation': 34, 'Collins Bus Corporation': 3514, 'Navistar, Inc.': 47280, 'MANCHESTER TANK & EQUIPMENT CO': 0, 'Contract Manufacturer, LLC': 142, 'Toyota Motor Engineering & Manufacturing': 83725, 'East Manufacturing Corp.': 17, 'Lippert': 0, 'KTM North America, Inc.': 1040, 'WARN Industries, Inc.': 0, 'Mercedes-Benz USA, LLC': 695316, 'Oshkosh Corporation': 0, 'Vermeer Manufacturing Company': 45, 'Wayfarer': 9, 'Genuine Scooters, LLC': 817, 'Chrysler (FCA US, LLC)': 1787303, 'Dexter Axle Company': 0, 'Volkswagen Group of America, Inc.': 597021, 'Excellance, Inc': 3, 'Ridewell Corporation': 0, 'Comoto Holdings, Inc.': 0, 'Tesla, Inc.': 1511979, 'Michelin North America, Inc.': 0, 'Lamborghini (Automobili Lamborghini)': 57, 'Coach and Equipment Mfg. Corp.': 353, 'Nikola Corporation': 93, 'McLaren Automotive Incorporated': 164, 'Lion Electric Company': 13, 'ScentLok Technologies': 0}\n"
          ]
        }
      ],
      "source": [
        "from csv import reader\n",
        "\n",
        "with open('data/recalls-truncated.csv', newline='') as stream:\n",
        "    csvReader = reader(stream)\n",
        "    \n",
        "    rows = [ row for row in csvReader ]\n",
        "    rows.pop(0)\n",
        "    manufacturers = { manufacturer for [ date, manufacturer, subject, recallType, count ] in rows }\n",
        "    groups = {\n",
        "        key: sum(int(count) for [ date, manufacturer, subject, recallType, count ] in rows if manufacturer == key and recallType == 'Vehicle')\n",
        "        for key in manufacturers\n",
        "    }\n",
        "\n",
        "    print(groups)"
      ]
    },
    {
      "cell_type": "code",
      "execution_count": null,
      "id": "e76db230",
      "metadata": {},
      "outputs": [],
      "source": []
    },
    {
      "cell_type": "markdown",
      "id": "e249e434-b8fe-45c7-9e12-52e15e2b2631",
      "metadata": {},
      "source": [
        "### Lambda expressions\n",
        "\n",
        "Finally, we can take the extrema of the groups by key to determine the manufacturers with the highest and lowest numbers of vehicles affected.\n",
        "\n",
        "<a name=\"lambda-expressions\"></a>\n",
        "\n",
        "To compute `argmin` and `argmax`, rather than simple `min` and `max`, we use lambda expressions that provide the comparison function."
      ]
    },
    {
      "cell_type": "code",
      "execution_count": 4,
      "id": "03201623-9323-4514-bc57-b7fdaf979032",
      "metadata": {
        "trusted": true
      },
      "outputs": [
        {
          "name": "stdout",
          "output_type": "stream",
          "text": [
            "Min: Carefree Of Colorado: 0\n",
            "Max: Ford Motor Company: 1,809,981\n"
          ]
        }
      ],
      "source": [
        "from csv import reader\n",
        "\n",
        "with open('data/recalls-truncated.csv', newline='') as stream:\n",
        "    csvReader = reader(stream)\n",
        "    \n",
        "    rows = [ row for row in csvReader ]\n",
        "    rows.pop(0)\n",
        "    manufacturers = { manufacturer for [ date, manufacturer, subject, recallType, count ] in rows }\n",
        "    groups = {\n",
        "        key: sum(int(count) for [ date, manufacturer, subject, recallType, count ] in rows if manufacturer == key and recallType == 'Vehicle')\n",
        "        for key in manufacturers\n",
        "    }\n",
        "    minKey = min(groups, key = lambda manufacturer: groups[manufacturer])\n",
        "    maxKey = max(groups, key = lambda manufacturer: groups[manufacturer])\n",
        "\n",
        "    print(f\"Min: {minKey}: {groups[minKey]:,}\")\n",
        "    print(f\"Max: {maxKey}: {groups[maxKey]:,}\")"
      ]
    },
    {
      "cell_type": "markdown",
      "id": "4a488141",
      "metadata": {},
      "source": [
        "## Investigation II\n",
        "\n",
        "__Which recalls have more than 500,000 potentially affected vehicles?__\n",
        "\n",
        "_Hypothesis:_ We know that Ford does!\n",
        "\n",
        "### Parsing\n",
        "\n",
        "To implement the parser, we can use our in-house `nelta` library."
      ]
    },
    {
      "cell_type": "code",
      "execution_count": 5,
      "id": "ff253a32-ddd7-4347-ac63-8d8510576705",
      "metadata": {
        "trusted": true
      },
      "outputs": [],
      "source": [
        "from nelta import read_csv\n",
        "\n",
        "t = read_csv('data/recalls-truncated.csv')"
      ]
    },
    {
      "cell_type": "markdown",
      "id": "0c659d3a-eabd-4d9a-8f20-8f96c826637c",
      "metadata": {},
      "source": [
        "We can easily determine the dimensions of the table:"
      ]
    },
    {
      "cell_type": "code",
      "execution_count": 6,
      "id": "9a378ea1-226a-49a7-ab45-c9aef1ecc229",
      "metadata": {
        "trusted": true
      },
      "outputs": [
        {
          "data": {
            "text/plain": [
              "(350, 5)"
            ]
          },
          "execution_count": 6,
          "metadata": {},
          "output_type": "execute_result"
        }
      ],
      "source": [
        "t.shape()"
      ]
    },
    {
      "cell_type": "markdown",
      "id": "08b1dbc5-d9e7-42cd-acb6-0d413197dc1b",
      "metadata": {},
      "source": [
        "And observe its columns:"
      ]
    },
    {
      "cell_type": "code",
      "execution_count": 7,
      "id": "0c5b7155-1947-4151-a429-4605f69c0326",
      "metadata": {
        "trusted": true
      },
      "outputs": [
        {
          "data": {
            "text/plain": [
              "['Date', 'Manufacturer', 'Subject', 'Recall Type', 'Potentially Affected']"
            ]
          },
          "execution_count": 7,
          "metadata": {},
          "output_type": "execute_result"
        }
      ],
      "source": [
        "t.columns"
      ]
    },
    {
      "cell_type": "markdown",
      "id": "cd4df240-66be-48b1-8507-d911ef04cd80",
      "metadata": {},
      "source": [
        "We can also examine the first few rows:"
      ]
    },
    {
      "cell_type": "code",
      "execution_count": 8,
      "id": "d2d3f6c3-b59c-42fb-9239-7b1ba033b7a2",
      "metadata": {
        "trusted": true
      },
      "outputs": [
        {
          "data": {
            "text/plain": [
              "         Date                      Manufacturer                                      Subject Recall Type Potentially Affected\n",
              "0  01/06/2023    Triple E Recreational Vehicles          Battery Disconnect Switch May Short     Vehicle                341.0\n",
              "1  01/05/2023                Volvo Car USA, LLC                   Steering Wheel May Lock Up     Vehicle                 74.0\n",
              "2  12/29/2022 Volkswagen Group of America, Inc.      12-Volt Battery Cable May Short Circuit     Vehicle               1042.0\n",
              "3  12/29/2022         Indian Motorcycle Company Kickstand May Not Retract Properly/FMVSS 123     Vehicle               4653.0"
            ]
          },
          "execution_count": 8,
          "metadata": {},
          "output_type": "execute_result"
        }
      ],
      "source": [
        "t.head(4)"
      ]
    },
    {
      "cell_type": "markdown",
      "id": "46c909be-fdf1-44d2-8077-fcf45ec2c203",
      "metadata": {},
      "source": [
        "To isolate the subject column of the last four rows:"
      ]
    },
    {
      "cell_type": "code",
      "execution_count": 9,
      "id": "d317e0de-9f69-431f-b18b-7ce32b08eba5",
      "metadata": {
        "trusted": true
      },
      "outputs": [
        {
          "data": {
            "text/plain": [
              "346       Improperly Secured Front Seat Belt Anchor\n",
              "347 Rearview Camera Image May Not Display/FMVSS 111\n",
              "348                  Secondary Hood Latch Corrosion\n",
              "349             Tire Sidewall Separation/ FMVSS 139"
            ]
          },
          "execution_count": 9,
          "metadata": {},
          "output_type": "execute_result"
        }
      ],
      "source": [
        "last_four = t.tail(4)\n",
        "last_four['Subject']"
      ]
    },
    {
      "cell_type": "markdown",
      "id": "e9e19ad2-51e4-44a7-9106-2480fd89f1ea",
      "metadata": {},
      "source": [
        "Iterating over its values:"
      ]
    },
    {
      "cell_type": "code",
      "execution_count": 10,
      "id": "0d38a8ca-02d9-4ae8-8aaf-0d8779b2f430",
      "metadata": {
        "trusted": true
      },
      "outputs": [
        {
          "name": "stdout",
          "output_type": "stream",
          "text": [
            "Improperly Secured Front Seat Belt Anchor\n",
            "Rearview Camera Image May Not Display/FMVSS 111\n",
            "Secondary Hood Latch Corrosion\n",
            "Tire Sidewall Separation/ FMVSS 139\n"
          ]
        }
      ],
      "source": [
        "for subject in last_four['Subject']:\n",
        "    print(subject)"
      ]
    },
    {
      "cell_type": "markdown",
      "id": "3e87554e-b7d3-4c95-a6f9-6edd586eae63",
      "metadata": {},
      "source": [
        "We can also query the manufacturers and subjects of the last few rows:"
      ]
    },
    {
      "cell_type": "code",
      "execution_count": 11,
      "id": "bb588150-322f-4d20-9801-83c9d0a29d04",
      "metadata": {
        "trusted": true
      },
      "outputs": [
        {
          "data": {
            "text/plain": [
              "                                             Subject                   Manufacturer\n",
              "346        Improperly Secured Front Seat Belt Anchor         Rivian Automotive, LLC\n",
              "347  Rearview Camera Image May Not Display/FMVSS 111         Chrysler (FCA US, LLC)\n",
              "348                   Secondary Hood Latch Corrosion            General Motors, LLC\n",
              "349              Tire Sidewall Separation/ FMVSS 139 PT. Elangperdana Tyre Industry"
            ]
          },
          "execution_count": 11,
          "metadata": {},
          "output_type": "execute_result"
        }
      ],
      "source": [
        "last_four[[ 'Subject', 'Manufacturer' ]]"
      ]
    },
    {
      "cell_type": "markdown",
      "id": "4f688790-9557-4f1c-9c0a-172a54396217",
      "metadata": {},
      "source": [
        "Extracting only the vehicle recalls:"
      ]
    },
    {
      "cell_type": "code",
      "execution_count": 25,
      "id": "a0c8118c-722c-4664-bb0c-43aacd803722",
      "metadata": {
        "trusted": true
      },
      "outputs": [
        {
          "name": "stdout",
          "output_type": "stream",
          "text": [
            "         Date                   Manufacturer                             Subject Recall Type Potentially Affected\n",
            "0  01/06/2023 Triple E Recreational Vehicles Battery Disconnect Switch May Short     Vehicle                341.0\n",
            "1  01/05/2023             Volvo Car USA, LLC          Steering Wheel May Lock Up     Vehicle                 74.0\n",
            "\n",
            "...\n",
            "           Date           Manufacturer                                         Subject Recall Type Potentially Affected\n",
            "347  08/25/2022 Chrysler (FCA US, LLC) Rearview Camera Image May Not Display/FMVSS 111     Vehicle               7895.0\n",
            "348  08/25/2022    General Motors, LLC                  Secondary Hood Latch Corrosion     Vehicle             120688.0\n",
            "\n"
          ]
        }
      ],
      "source": [
        "vehicles = t[t['Recall Type'] == 'Vehicle']\n",
        "\n",
        "print(vehicles.head(2))\n",
        "print(\"...\")\n",
        "print(vehicles.tail(2))"
      ]
    },
    {
      "cell_type": "markdown",
      "id": "33f60796-2392-4cde-8926-1e4df1703881",
      "metadata": {},
      "source": [
        "Counting the number of vehicle recalls:"
      ]
    },
    {
      "cell_type": "code",
      "execution_count": 26,
      "id": "0e41ef63-e84d-4d6c-8104-757f81f62330",
      "metadata": {
        "trusted": true
      },
      "outputs": [
        {
          "data": {
            "text/plain": [
              "313"
            ]
          },
          "execution_count": 26,
          "metadata": {},
          "output_type": "execute_result"
        }
      ],
      "source": [
        "vehicles.shape()[0]"
      ]
    },
    {
      "cell_type": "markdown",
      "id": "79844008-2c3d-4f72-aa2e-aaee986d113f",
      "metadata": {},
      "source": [
        "We can also apply a filter to include only recalls which potentially affect more than 500,000 vehicles:"
      ]
    },
    {
      "cell_type": "code",
      "execution_count": 39,
      "id": "cce0ee57-91bd-4e9e-ae62-46dcd06a0a35",
      "metadata": {
        "trusted": true
      },
      "outputs": [],
      "source": [
        "my_filter = vehicles['Potentially Affected'] > 500000"
      ]
    },
    {
      "cell_type": "markdown",
      "id": "ecace00b-f283-4e5a-858a-74482d8fcfcb",
      "metadata": {},
      "source": [
        "Verifying that our filter is a `LabeledList` instance:"
      ]
    },
    {
      "cell_type": "code",
      "execution_count": 40,
      "id": "f1668dfa-6f3b-40f8-a422-a9678847ca06",
      "metadata": {
        "trusted": true
      },
      "outputs": [
        {
          "data": {
            "text/plain": [
              "nelta.LabeledList"
            ]
          },
          "execution_count": 40,
          "metadata": {},
          "output_type": "execute_result"
        }
      ],
      "source": [
        "type(my_filter)"
      ]
    },
    {
      "cell_type": "markdown",
      "id": "fb3b0bbc-b77d-4ca5-88c5-1cb1654bffdd",
      "metadata": {},
      "source": [
        "And that the implementation works as expected:"
      ]
    },
    {
      "cell_type": "code",
      "execution_count": 41,
      "id": "da1c75ef-1cb4-46f7-b1a9-f3ff5e9ca9bb",
      "metadata": {
        "trusted": true
      },
      "outputs": [
        {
          "data": {
            "text/plain": [
              "False"
            ]
          },
          "execution_count": 41,
          "metadata": {},
          "output_type": "execute_result"
        }
      ],
      "source": [
        "my_filter[3]"
      ]
    },
    {
      "cell_type": "markdown",
      "id": "9f452129-c0f2-400f-bd34-b8297d476919",
      "metadata": {},
      "source": [
        "We can apply the filter to the table:"
      ]
    },
    {
      "cell_type": "code",
      "execution_count": 42,
      "id": "ea6760ba-4f7c-414a-9b4f-8bffe3e3f2e7",
      "metadata": {
        "trusted": true
      },
      "outputs": [
        {
          "data": {
            "text/plain": [
              "           Date           Manufacturer                                         Subject Recall Type Potentially Affected\n",
              " 60  12/08/2022    General Motors, LLC     Running Lights May Not Deactivate/FMVSS 108     Vehicle             740108.0\n",
              " 61  12/08/2022 Chrysler (FCA US, LLC)                 Tailgate May Open While Driving     Vehicle            1224078.0\n",
              "110  11/18/2022     Ford Motor Company Cracked Fuel Injector May Leak and Cause a Fire     Vehicle             521746.0\n",
              "284  09/19/2022            Tesla, Inc.               Power Windows May Pinch/FMVSS 118     Vehicle            1096762.0"
            ]
          },
          "execution_count": 42,
          "metadata": {},
          "output_type": "execute_result"
        }
      ],
      "source": [
        "vehicles[my_filter]"
      ]
    },
    {
      "cell_type": "markdown",
      "id": "4e71820e-c7f1-41ae-a0ba-af72797acf55",
      "metadata": {},
      "source": [
        "We can apply a map to the manufacturers to transform them to uppercase:"
      ]
    },
    {
      "cell_type": "code",
      "execution_count": 47,
      "id": "71aa47c7-7d8a-4e54-9c1b-e5babd8f2302",
      "metadata": {
        "trusted": true
      },
      "outputs": [
        {
          "data": {
            "text/plain": [
              " 60    GENERAL MOTORS, LLC\n",
              " 61 CHRYSLER (FCA US, LLC)\n",
              "110     FORD MOTOR COMPANY\n",
              "284            TESLA, INC."
            ]
          },
          "execution_count": 47,
          "metadata": {},
          "output_type": "execute_result"
        }
      ],
      "source": [
        "rare_occurrence = vehicles[my_filter]\n",
        "rare_occurrence['Manufacturer'].map(str.upper)"
      ]
    },
    {
      "cell_type": "markdown",
      "id": "ee9c4ac8-f86d-494a-8412-18a37c5120ee",
      "metadata": {},
      "source": [
        "Finally, we can also find a list of vehicle recalls made in 2023:"
      ]
    },
    {
      "cell_type": "code",
      "execution_count": 48,
      "id": "8478c9bb-3cd2-436a-9cb8-9d7472544a06",
      "metadata": {
        "trusted": true
      },
      "outputs": [
        {
          "data": {
            "text/plain": [
              "         Date                   Manufacturer                             Subject Recall Type Potentially Affected\n",
              "0  01/06/2023 Triple E Recreational Vehicles Battery Disconnect Switch May Short     Vehicle                341.0\n",
              "1  01/05/2023             Volvo Car USA, LLC          Steering Wheel May Lock Up     Vehicle                 74.0"
            ]
          },
          "execution_count": 48,
          "metadata": {},
          "output_type": "execute_result"
        }
      ],
      "source": [
        "vehicles[[ date.split('/')[2] == '2023' for date in vehicles['Date'] ]]"
      ]
    }
  ],
  "metadata": {
    "kernelspec": {
      "display_name": "Python (Pyodide)",
      "language": "python",
      "name": "python"
    },
    "language_info": {
      "codemirror_mode": {
        "name": "python",
        "version": 3
      },
      "file_extension": ".py",
      "mimetype": "text/x-python",
      "name": "python",
      "nbconvert_exporter": "python",
      "pygments_lexer": "ipython3",
      "version": "3.8"
    }
  },
  "nbformat": 4,
  "nbformat_minor": 5
}
