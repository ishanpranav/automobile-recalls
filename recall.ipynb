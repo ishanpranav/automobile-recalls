{
 "cells": [
  {
   "cell_type": "markdown",
   "id": "6857504c-31f0-41dc-9247-2c0316a8fc50",
   "metadata": {},
   "source": [
    "# Automobile recalls\n",
    "\n",
    "## Attribution\n",
    "\n",
    "The data for this project come from\n",
    "[Michael Bryant's automobile recalls dataset](https://www.kaggle.com/datasets/michaelbryantds/automobile-recalls-dataset). We use a modified dataset:\n",
    "\n",
    "* some columns have been removed,\n",
    "* some column names have been changed,\n",
    "* some rows have been removed due to non numeric values in numeric columns, and\n",
    "* some rows have been removed to consider only subset of the data.\n",
    "\n",
    "## Constraints\n",
    "\n",
    "We impose the following constraints:\n",
    "\n",
    "* may not external libraries, such as `numpy` or `pandas`; and\n",
    "* may not use any regular loops, such as `for...in` or `while`.\n",
    "\n",
    "## References\n",
    "\n",
    "* [csv — CSV File Reading and Writing](https://docs.python.org/3/library/csv.html)\n",
    "\n",
    "## Investigation\n",
    "\n",
    "__Which automobile manufacturer has the highest number of potentially affected vehicles? Which has the lowest?__\n",
    "\n",
    "_Hypothesis:_ Mercedes-Benz has the highest, and Chrysler has the lowest.\n",
    "\n",
    "\n",
    "### Parsing\n",
    "\n",
    "To implement the parser, we read each of the comma-separated values."
   ]
  },
  {
   "cell_type": "code",
   "execution_count": null,
   "id": "ef325df0-23aa-4a67-9056-b1271767446b",
   "metadata": {},
   "outputs": [],
   "source": [
    "from csv import reader\n",
    "\n",
    "with open('data/recalls-truncated.csv', newline='') as stream:\n",
    "    csvReader = reader(stream, delimiter=',', quotechar='\"')\n",
    "    \n",
    "    print([ row for row in csvReader ])"
   ]
  }
 ],
 "metadata": {
  "kernelspec": {
   "display_name": "Python 3",
   "language": "python",
   "name": "python3"
  },
  "language_info": {
   "codemirror_mode": {
    "name": "ipython",
    "version": 3
   },
   "file_extension": ".py",
   "mimetype": "text/x-python",
   "name": "python",
   "nbconvert_exporter": "python",
   "pygments_lexer": "ipython3",
   "version": "3.9.10"
  }
 },
 "nbformat": 4,
 "nbformat_minor": 5
}
